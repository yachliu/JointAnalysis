{
 "cells": [
  {
   "cell_type": "code",
   "execution_count": 1,
   "metadata": {},
   "outputs": [],
   "source": [
    "import os\n",
    "import sqlite3\n",
    "\n",
    "import numpy as np\n",
    "import pandas as pd\n",
    "\n",
    "from tqdm import tqdm\n",
    "from bisect import bisect\n",
    "from loguru  import logger\n",
    "\n",
    "from multiprocessing import Pool, cpu_count, Manager, Process, Value\n",
    "\n",
    "pd.set_option('display.max_columns', None)\n",
    "from check_input import check_db\n",
    "from preprocessing import build_feature2ndscore, get_db_rid2rn, get_db_rn2fpath, return_pr2tr_id_map, return_nrt_width\n",
    "from database import get_rid2chrom_conn, close_rid2chrom_conn, get_run_native2chrom_fpath\n",
    "# from mrgroup import get_cmrg_messages\n",
    "# from format_data import return_mr_features, initial_format, output_format\n",
    "# from openswath_feature import get_os_features\n",
    "# from discriminate import calc_score_cut, calc_results\n",
    "# from reports import stats"
   ]
  },
  {
   "cell_type": "code",
   "execution_count": 2,
   "metadata": {},
   "outputs": [
    {
     "name": "stderr",
     "output_type": "stream",
     "text": [
      "\u001b[32m2024-04-30 21:14:33.191\u001b[0m | \u001b[1mINFO    \u001b[0m | \u001b[36m__main__\u001b[0m:\u001b[36m<module>\u001b[0m:\u001b[36m15\u001b[0m - \u001b[1mMRGDiscrim Workflow\u001b[0m\n",
      "\u001b[32m2024-04-30 21:14:33.192\u001b[0m | \u001b[1mINFO    \u001b[0m | \u001b[36m__main__\u001b[0m:\u001b[36m<module>\u001b[0m:\u001b[36m18\u001b[0m - \u001b[1mCheck db_infile: /mnt/data_nas/lyc/project/JointAnalysis/work/CCRCC/pyprophet/merged.osw\u001b[0m\n",
      "\u001b[32m2024-04-30 21:14:33.522\u001b[0m | \u001b[1mINFO    \u001b[0m | \u001b[36m__main__\u001b[0m:\u001b[36m<module>\u001b[0m:\u001b[36m22\u001b[0m - \u001b[1mSave ndscores to db: /mnt/data_nas/lyc/project/JointAnalysis/work/MCB/MCB_MSF_DDALib_top6_10Percent_Lib20240131/mrgd/feature2ndscore.db\u001b[0m\n",
      "\u001b[32m2024-04-30 21:18:03.381\u001b[0m | \u001b[1mINFO    \u001b[0m | \u001b[36m__main__\u001b[0m:\u001b[36m<module>\u001b[0m:\u001b[36m25\u001b[0m - \u001b[1mOrganize the necessary inputs\u001b[0m\n"
     ]
    }
   ],
   "source": [
    "db_fpath = \"/mnt/data_nas/lyc/project/JointAnalysis/work/CCRCC/pyprophet/merged.osw\"\n",
    "chrom_dpath = \"/mnt/data_nas/lyc/project/JointAnalysis/work/CCRCC/openswath\"\n",
    "work_dpath = \"/mnt/data_nas/lyc/project/JointAnalysis/work/MCB/MCB_MSF_DDALib_top6_10Percent_Lib20240131/mrgd\"\n",
    "n_threads = 64\n",
    "seed = 123\n",
    "map_size = 32\n",
    "fdr_precursor = 0.01\n",
    "nrt_width_percent = 0.02\n",
    "\n",
    "map_size = 2 ** map_size\n",
    "# if not os.path.exists(work_dpath):\n",
    "#     os.makedirs(work_dpath)\n",
    "# log_fpath = os.path.join(work_dpath, \"MRGDiscrim.log\")\n",
    "# logger.add(log_fpath, format=\"{time:YYYY-MM-DD HH:mm:ss} | {level} | {message}\", mode=\"w\")\n",
    "logger.info(f'MRGDiscrim Workflow')\n",
    "\n",
    "\n",
    "logger.info(f'Check db_infile: {db_fpath}')\n",
    "check_db(db_fpath, logger)\n",
    "\n",
    "feature2ndscore_fpath = os.path.join(work_dpath, \"feature2ndscore.db\")\n",
    "logger.info(f'Save ndscores to db: {feature2ndscore_fpath}')\n",
    "build_feature2ndscore(db_fpath, feature2ndscore_fpath, map_size)\n",
    "\n",
    "logger.info(f'Organize the necessary inputs')\n",
    "rid2rn = get_db_rid2rn(db_fpath)\n",
    "rid_list = [k for k in rid2rn.keys()]\n",
    "rn2chrom_fpath = get_db_rn2fpath(chrom_dpath, \"sqMass\")\n",
    "pr2tr_id_map = return_pr2tr_id_map(db_fpath)\n",
    "\n",
    "nrt_width = return_nrt_width(db_fpath, nrt_width_percent)"
   ]
  },
  {
   "cell_type": "code",
   "execution_count": 3,
   "metadata": {},
   "outputs": [],
   "source": [
    "rn2chrom_fpath_part = {'CPTAC_CCRCC_W_JHU_LUMOS_C3L-00966_NAT': '/mnt/data_nas/lyc/project/JointAnalysis/work/CCRCC/openswath/CPTAC_CCRCC_W_JHU_LUMOS_C3L-00966_NAT.mzML.chrom.sqMass',\n",
    " 'CPTAC_CCRCC_W_JHU_LUMOS_C3L-00968_NAT': '/mnt/data_nas/lyc/project/JointAnalysis/work/CCRCC/openswath/CPTAC_CCRCC_W_JHU_LUMOS_C3L-00968_NAT.mzML.chrom.sqMass'}"
   ]
  },
  {
   "cell_type": "code",
   "execution_count": 4,
   "metadata": {},
   "outputs": [],
   "source": [
    "rid2rn_part = {8686448202532635331: 'CPTAC_CCRCC_W_JHU_LUMOS_C3L-00966_NAT',\n",
    " 9088139040828334229: 'CPTAC_CCRCC_W_JHU_LUMOS_C3L-00968_NAT'}"
   ]
  },
  {
   "cell_type": "code",
   "execution_count": 11,
   "metadata": {},
   "outputs": [
    {
     "name": "stderr",
     "output_type": "stream",
     "text": [
      "\u001b[32m2024-04-30 21:22:14.595\u001b[0m | \u001b[1mINFO    \u001b[0m | \u001b[36m__main__\u001b[0m:\u001b[36m<module>\u001b[0m:\u001b[36m1\u001b[0m - \u001b[1mSave nativeID2chromID\u001b[0m\n"
     ]
    }
   ],
   "source": [
    "logger.info(f'Save nativeID2chromID')\n",
    "rid2chrom_conn = get_rid2chrom_conn(rid2rn, rn2chrom_fpath)\n",
    "rid_native2chromid_fpath = get_run_native2chrom_fpath(rid2chrom_conn, work_dpath, map_size / 8)\n",
    "close_rid2chrom_conn(rid2chrom_conn)"
   ]
  },
  {
   "cell_type": "code",
   "execution_count": 12,
   "metadata": {},
   "outputs": [
    {
     "name": "stderr",
     "output_type": "stream",
     "text": [
      "\u001b[32m2024-04-30 21:32:43.173\u001b[0m | \u001b[1mINFO    \u001b[0m | \u001b[36m__main__\u001b[0m:\u001b[36m<module>\u001b[0m:\u001b[36m1\u001b[0m - \u001b[1mGet MRGroup\u001b[0m\n",
      "\u001b[32m2024-04-30 21:32:43.815\u001b[0m | \u001b[1mINFO    \u001b[0m | \u001b[36m__main__\u001b[0m:\u001b[36m<module>\u001b[0m:\u001b[36m18\u001b[0m - \u001b[1m( 0 / 187312) precursor has Calculated...\u001b[0m\n"
     ]
    }
   ],
   "source": [
    "logger.info(f'Get MRGroup')\n",
    "m_conn = sqlite3.connect(db_fpath)\n",
    "m_cur = m_conn.cursor()\n",
    "m_cur.execute(f'SELECT ID FROM PRECURSOR')\n",
    "\n",
    "precursor_ids = np.array(m_cur.fetchall()).squeeze()\n",
    "m_cur.close()\n",
    "m_conn.close()\n",
    "\n",
    "num_precursor = precursor_ids.shape[0]\n",
    "logger_n = 10 ** (len(str(num_precursor)) - 2)\n",
    "n_precur = num_precursor // n_threads\n",
    "precurs_list = [precursor_ids[i * n_precur : (i + 1) * n_precur].tolist() for i in range(n_threads)]\n",
    "_ = [precurs_list[i].append(precursor_ids[i + n_precur * n_threads]) for i in range(len(precursor_ids) - n_precur * n_threads)]\n",
    "\n",
    "results_collector = Manager().list()\n",
    "counter = Manager().Value('d',0)\n",
    "logger.info(f\"( {counter.value} / {num_precursor}) precursor has Calculated...\")\n",
    "extractors = []"
   ]
  },
  {
   "cell_type": "code",
   "execution_count": 13,
   "metadata": {},
   "outputs": [],
   "source": [
    "import lmdb\n",
    "def get_rid_native2chromid_db(rid_native2chromid_fpath: dict) -> dict:\n",
    "    \n",
    "    rid_native2chromid_db = {}\n",
    "    rid_native2chromid_cur = {}   \n",
    "    for k, v in rid_native2chromid_fpath.items():\n",
    "        rid_native2chromid_db[k] = lmdb.open(v, create=False)\n",
    "        rid_native2chromid_cur[k] = rid_native2chromid_db[k].begin(write=False)\n",
    "    return rid_native2chromid_db, rid_native2chromid_cur\n",
    "\n",
    "def get_ndscore(f2nds_cur, feature_id) -> float:\n",
    "    \n",
    "    # with f2nds_conn.begin(write=False) as txn:\n",
    "    #     value = txn.get(str(feature_id).encode('utf-8'))\n",
    "    #     return(float(value.decode('utf-8')))\n",
    "\n",
    "    value = f2nds_cur.get(str(feature_id).encode('utf-8'))\n",
    "    return(float(value.decode('utf-8')))\n",
    "\n",
    "m_conn = sqlite3.connect(f'file:{db_fpath}?mode=ro', uri=True)\n",
    "# m_conn.close()\n",
    "results = []\n",
    "f2nds_conn = lmdb.open(feature2ndscore_fpath)\n",
    "f2nds_cur = f2nds_conn.begin(write=False)\n",
    "rid_native2chromid_db, rid_native2chromid_cur = get_rid_native2chromid_db(rid_native2chromid_fpath)\n",
    "rid2chrom_conn = get_rid2chrom_conn(rid2rn, rn2chrom_fpath)\n",
    "\n",
    "results = []"
   ]
  },
  {
   "cell_type": "code",
   "execution_count": 14,
   "metadata": {},
   "outputs": [],
   "source": [
    "import numba\n",
    "import PyMSNumpress\n",
    "import zlib\n",
    "import numpy as np\n",
    "\n",
    "from bisect import bisect\n",
    "\n",
    "@numba.jit(nopython = True)\n",
    "def smooth_array_nb(arr):\n",
    "    # arr = np.array(arr)\n",
    "    new_arr = np.zeros_like(arr)\n",
    "    new_arr[0] = (2 * arr[0] + arr[1]) / 3\n",
    "    new_arr[-1] = (2 * arr[-1] + arr[-2]) / 3\n",
    "    for x in range(1, len(arr) - 1):\n",
    "        new_arr[x] = (0.5*arr[x] + 0.25*arr[x-1] + 0.25*arr[x+1])\n",
    "    return new_arr\n",
    "def get_chromid_from_rid_native_id(db, search_key):\n",
    "    value = db.get(search_key.encode('utf-8'))\n",
    "    return value.decode('utf-8') if value else None"
   ]
  },
  {
   "cell_type": "code",
   "execution_count": 26,
   "metadata": {},
   "outputs": [],
   "source": [
    "import numba\n",
    "import PyMSNumpress\n",
    "import zlib\n",
    "import numpy as np\n",
    "\n",
    "from bisect import bisect\n",
    "\n",
    "# def organize_chroms_dimension(run_p_chroms: list, run_p_rts: list) -> np.array:\n",
    "#     pr_chrom = np.array(run_p_chroms[0])\n",
    "#     fr_chroms = np.array(run_p_chroms[1:])\n",
    "#     pr_rt = run_p_rts[0]\n",
    "#     fr_rt = run_p_rts[1]\n",
    "\n",
    "#     for left_i in range(len(fr_rt)):\n",
    "#         left_rtid = bisect(pr_rt, fr_rt[left_i]) - 1\n",
    "#         if left_rtid >= 0:\n",
    "#             break\n",
    "#     if (left_i - left_rtid) == 0:\n",
    "#         pass\n",
    "#     elif left_rtid - left_i > 0:\n",
    "#         pr_rt = pr_rt[left_rtid - left_i :]\n",
    "#         pr_chrom = pr_chrom[left_rtid - left_i :]\n",
    "#     elif left_i - left_rtid > 0:\n",
    "#         fr_chroms = fr_chroms[:, left_i - left_rtid:]\n",
    "#         fr_rt = fr_rt[left_i - left_rtid:]\n",
    "\n",
    "#     rev_fr_rt = list(-np.array(fr_rt)[::-1])\n",
    "#     rev_pr_rt = list(-np.array(pr_rt)[::-1])\n",
    "\n",
    "#     for right_i in range(len(rev_pr_rt)):\n",
    "#         right_rtid = bisect(rev_fr_rt, rev_pr_rt[right_i]) - 1\n",
    "#         if right_rtid >= 0:\n",
    "#             break\n",
    "#     if (right_i - right_rtid) == 0:\n",
    "#         pass\n",
    "#     elif right_rtid - right_i > 0:\n",
    "#         fr_rt = fr_rt[: -(right_rtid - right_i)]\n",
    "#         fr_chroms = fr_chroms[:, : -(right_rtid - right_i)]\n",
    "#     elif right_i - right_rtid > 0:\n",
    "#         pr_rt = pr_rt[: -(right_i - right_rtid)]\n",
    "#         pr_chrom = pr_chrom[: -(right_i - right_rtid)]\n",
    "\n",
    "#     run_p_xics = np.concatenate((pr_chrom[np.newaxis, :], fr_chroms), axis = 0)\n",
    "\n",
    "#     return run_p_xics, pr_rt\n",
    "\n",
    "\n",
    "def organize_chroms_dimension11(run_p_chroms: list, run_p_rts: list) -> np.array:\n",
    "    pr_chrom = np.array(run_p_chroms[0])\n",
    "    fr_chroms = np.array(run_p_chroms[1:])\n",
    "    pr_rt = np.array(run_p_rts[0])\n",
    "    fr_rt = np.array(run_p_rts[1])\n",
    "\n",
    "    if len(pr_rt) == len(fr_rt):\n",
    "        return np.array(run_p_chroms), pr_rt\n",
    "    else:\n",
    "\n",
    "        for psi in range(len(pr_rt)):\n",
    "            psi_left = pr_rt[psi]\n",
    "            psi_right = pr_rt[psi+1]\n",
    "            sleft_label = fr_rt >= psi_left\n",
    "            sright_label = fr_rt < psi_right\n",
    "            s_label = sleft_label & sright_label\n",
    "            if np.sum(s_label) > 0:\n",
    "                break\n",
    "        fsi = np.where(s_label)[0][0]\n",
    "\n",
    "        for fei in range(len(fr_rt) - 1, 0, -1):\n",
    "            fei_left = fr_rt[fei - 1]\n",
    "            fei_right = fr_rt[fei]\n",
    "            sleft_label = pr_rt > fei_left\n",
    "            sright_label = pr_rt <= fei_right\n",
    "            s_label = sleft_label & sright_label\n",
    "            if np.sum(s_label) > 0:\n",
    "                break\n",
    "        pei = np.where(s_label)[0][0]\n",
    "\n",
    "        run_p_xics = np.concatenate((pr_chrom[psi: pei+1][np.newaxis, :], fr_chroms[:, fsi:fei+1]), axis = 0)\n",
    "\n",
    "        assert run_p_xics.shape[1] == len(pr_rt[psi: pei+1]), print(\"Error\")\n",
    "\n",
    "        return run_p_xics, pr_rt[psi: pei+1]"
   ]
  },
  {
   "cell_type": "code",
   "execution_count": 27,
   "metadata": {},
   "outputs": [
    {
     "name": "stderr",
     "output_type": "stream",
     "text": [
      "  2%|▏         | 61/2927 [03:05<2:25:27,  3.05s/it]\n"
     ]
    },
    {
     "ename": "KeyboardInterrupt",
     "evalue": "",
     "output_type": "error",
     "traceback": [
      "\u001b[0;31m---------------------------------------------------------------------------\u001b[0m",
      "\u001b[0;31mKeyboardInterrupt\u001b[0m                         Traceback (most recent call last)",
      "\u001b[0;32m<ipython-input-27-04e16119dda0>\u001b[0m in \u001b[0;36m<module>\u001b[0;34m\u001b[0m\n\u001b[1;32m     36\u001b[0m         \u001b[0;32mfor\u001b[0m \u001b[0mp_native_id\u001b[0m \u001b[0;32min\u001b[0m \u001b[0mp_native_ids\u001b[0m\u001b[0;34m:\u001b[0m\u001b[0;34m\u001b[0m\u001b[0;34m\u001b[0m\u001b[0m\n\u001b[1;32m     37\u001b[0m             \u001b[0mrun_p_chrom_id\u001b[0m \u001b[0;34m=\u001b[0m \u001b[0mint\u001b[0m\u001b[0;34m(\u001b[0m\u001b[0mget_chromid_from_rid_native_id\u001b[0m\u001b[0;34m(\u001b[0m\u001b[0mrid_native2chromid_cur\u001b[0m\u001b[0;34m[\u001b[0m\u001b[0mp_u_rid\u001b[0m\u001b[0;34m]\u001b[0m\u001b[0;34m,\u001b[0m \u001b[0mstr\u001b[0m\u001b[0;34m(\u001b[0m\u001b[0mp_native_id\u001b[0m\u001b[0;34m)\u001b[0m\u001b[0;34m)\u001b[0m\u001b[0;34m)\u001b[0m\u001b[0;34m\u001b[0m\u001b[0;34m\u001b[0m\u001b[0m\n\u001b[0;32m---> 38\u001b[0;31m             \u001b[0mcomp_data\u001b[0m \u001b[0;34m=\u001b[0m \u001b[0mrun_cur\u001b[0m\u001b[0;34m.\u001b[0m\u001b[0mexecute\u001b[0m\u001b[0;34m(\u001b[0m\u001b[0;34mf'SELECT COMPRESSION, DATA FROM DATA WHERE CHROMATOGRAM_ID == {run_p_chrom_id}'\u001b[0m\u001b[0;34m)\u001b[0m\u001b[0;34m.\u001b[0m\u001b[0mfetchall\u001b[0m\u001b[0;34m(\u001b[0m\u001b[0;34m)\u001b[0m\u001b[0;34m\u001b[0m\u001b[0;34m\u001b[0m\u001b[0m\n\u001b[0m\u001b[1;32m     39\u001b[0m \u001b[0;34m\u001b[0m\u001b[0m\n\u001b[1;32m     40\u001b[0m             \u001b[0;32mfor\u001b[0m \u001b[0mcomp\u001b[0m\u001b[0;34m,\u001b[0m \u001b[0mxic\u001b[0m \u001b[0;32min\u001b[0m \u001b[0mcomp_data\u001b[0m\u001b[0;34m:\u001b[0m\u001b[0;34m\u001b[0m\u001b[0;34m\u001b[0m\u001b[0m\n",
      "\u001b[0;31mKeyboardInterrupt\u001b[0m: "
     ]
    }
   ],
   "source": [
    "from chromatographic import organize_chroms_dimension\n",
    "from tqdm import tqdm\n",
    "\n",
    "for prec_id in tqdm(precurs_list[0]):\n",
    "# prec_id = precurs_list[0][454]\n",
    "\n",
    "\n",
    "    p_table = pd.read_sql_query(f'SELECT * FROM FEATURE WHERE PRECURSOR_ID = {prec_id}', m_conn)\n",
    "    if p_table.shape[0] == 0:\n",
    "        # continue\n",
    "        print(\"continue\")\n",
    "    ndscores = []\n",
    "    for f_id in p_table[\"ID\"]:\n",
    "        ndscores.append(get_ndscore(f2nds_cur, f_id))\n",
    "    p_table[\"NORM_DSCORE\"] = ndscores\n",
    "\n",
    "    p_u_rids = p_table[\"RUN_ID\"].unique()\n",
    "    p_prec_ids = p_table[\"PRECURSOR_ID\"].unique()\n",
    "    if len(p_prec_ids) != 1:\n",
    "        logger.error(f'Error')\n",
    "        raise\n",
    "    p_prec_id = p_prec_ids[0]\n",
    "    p_native_ids = [\"%s_Precursor_i0\"%p_prec_id] + pr2tr_id_map[prec_id]\n",
    "\n",
    "\n",
    "\n",
    "    p_rid2xics, p_rid2rts = {}, {}\n",
    "    for p_u_rid in p_u_rids:\n",
    "        # if p_u_rid != 8686448202532635331:\n",
    "        #     continue\n",
    "        # print(p_u_rid)\n",
    "        run_conn = rid2chrom_conn[p_u_rid]\n",
    "        run_cur = run_conn.cursor()\n",
    "        run_p_rts = []\n",
    "        run_p_chroms = []\n",
    "        for p_native_id in p_native_ids:\n",
    "            run_p_chrom_id = int(get_chromid_from_rid_native_id(rid_native2chromid_cur[p_u_rid], str(p_native_id)))\n",
    "            comp_data = run_cur.execute(f'SELECT COMPRESSION, DATA FROM DATA WHERE CHROMATOGRAM_ID == {run_p_chrom_id}').fetchall()\n",
    "\n",
    "            for comp, xic in comp_data:\n",
    "                result = []\n",
    "                if comp == 5:\n",
    "                    PyMSNumpress.decodeLinear(zlib.decompress(xic), result)\n",
    "                    run_p_rts.append(result)\n",
    "                elif comp == 6:\n",
    "                    PyMSNumpress.decodeSlof(zlib.decompress(xic), result)\n",
    "                    run_p_chroms.append(smooth_array_nb(np.array(result)).tolist())\n",
    "                else:\n",
    "                    logger.error(\"Error: PyMSNumpress\")\n",
    "                    raise\n",
    "        run_cur.close()\n",
    "        # for i in range(len(run_p_rts)):\n",
    "        #     print(len(run_p_rts[i]), len(run_p_chroms[i]))\n",
    "        run_p_xics, run_pr_rt = organize_chroms_dimension11(run_p_chroms, run_p_rts)"
   ]
  },
  {
   "cell_type": "code",
   "execution_count": 18,
   "metadata": {},
   "outputs": [
    {
     "name": "stdout",
     "output_type": "stream",
     "text": [
      "174 174\n",
      "174 174\n",
      "174 174\n",
      "174 174\n",
      "174 174\n",
      "174 174\n",
      "174 174\n"
     ]
    }
   ],
   "source": [
    "for i in range(len(run_p_chroms)):\n",
    "    print(len(run_p_rts[i]), len(run_p_rts[i]))"
   ]
  },
  {
   "cell_type": "code",
   "execution_count": 23,
   "metadata": {},
   "outputs": [
    {
     "data": {
      "text/plain": [
       "([6428.3, 6431.9, 6435.3, 6438.9, 6442.6],\n",
       " [6428.3, 6431.8, 6435.3, 6438.8, 6442.5],\n",
       " [6428.3, 6431.8, 6435.3, 6438.8, 6442.5])"
      ]
     },
     "execution_count": 23,
     "metadata": {},
     "output_type": "execute_result"
    }
   ],
   "source": [
    "run_p_rts[0][:5], run_p_rts[1][:5], run_p_rts[2][:5]"
   ]
  },
  {
   "cell_type": "code",
   "execution_count": 22,
   "metadata": {},
   "outputs": [
    {
     "data": {
      "text/plain": [
       "([7011.5, 7014.9, 7018.3, 7021.8, 7025.3],\n",
       " [7011.4, 7014.8, 7018.3, 7021.7, 7025.2],\n",
       " [7011.4, 7014.8, 7018.3, 7021.7, 7025.2])"
      ]
     },
     "execution_count": 22,
     "metadata": {},
     "output_type": "execute_result"
    }
   ],
   "source": [
    "run_p_rts[0][-5:], run_p_rts[1][-5:], run_p_rts[2][-5:]"
   ]
  }
 ],
 "metadata": {
  "kernelspec": {
   "display_name": "dreamdia",
   "language": "python",
   "name": "python3"
  },
  "language_info": {
   "codemirror_mode": {
    "name": "ipython",
    "version": 3
   },
   "file_extension": ".py",
   "mimetype": "text/x-python",
   "name": "python",
   "nbconvert_exporter": "python",
   "pygments_lexer": "ipython3",
   "version": "3.6.12"
  }
 },
 "nbformat": 4,
 "nbformat_minor": 2
}
