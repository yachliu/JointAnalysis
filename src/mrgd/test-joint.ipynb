{
 "cells": [
  {
   "cell_type": "code",
   "execution_count": 2,
   "metadata": {},
   "outputs": [
    {
     "ename": "ModuleNotFoundError",
     "evalue": "No module named 'PyMSNumpress'",
     "output_type": "error",
     "traceback": [
      "\u001b[0;31m---------------------------------------------------------------------------\u001b[0m",
      "\u001b[0;31mModuleNotFoundError\u001b[0m                       Traceback (most recent call last)",
      "\u001b[0;32m<ipython-input-2-0bf2d510d0c9>\u001b[0m in \u001b[0;36m<module>\u001b[0;34m\u001b[0m\n\u001b[1;32m     15\u001b[0m \u001b[0;32mfrom\u001b[0m \u001b[0mpreprocessing\u001b[0m \u001b[0;32mimport\u001b[0m \u001b[0mbuild_feature2ndscore\u001b[0m\u001b[0;34m,\u001b[0m \u001b[0mget_db_rid2rn\u001b[0m\u001b[0;34m,\u001b[0m \u001b[0mget_db_rn2fpath\u001b[0m\u001b[0;34m,\u001b[0m \u001b[0mreturn_pr2tr_id_map\u001b[0m\u001b[0;34m,\u001b[0m \u001b[0mreturn_nrt_intervel\u001b[0m\u001b[0;34m\u001b[0m\u001b[0;34m\u001b[0m\u001b[0m\n\u001b[1;32m     16\u001b[0m \u001b[0;32mfrom\u001b[0m \u001b[0mdatabase\u001b[0m \u001b[0;32mimport\u001b[0m \u001b[0mget_rid2chrom_conn\u001b[0m\u001b[0;34m,\u001b[0m \u001b[0mclose_rid2chrom_conn\u001b[0m\u001b[0;34m,\u001b[0m \u001b[0mget_run_native2chrom_fpath\u001b[0m\u001b[0;34m\u001b[0m\u001b[0;34m\u001b[0m\u001b[0m\n\u001b[0;32m---> 17\u001b[0;31m \u001b[0;32mfrom\u001b[0m \u001b[0mmrgroup\u001b[0m \u001b[0;32mimport\u001b[0m \u001b[0mget_cmrg_messages\u001b[0m\u001b[0;34m\u001b[0m\u001b[0;34m\u001b[0m\u001b[0m\n\u001b[0m\u001b[1;32m     18\u001b[0m \u001b[0;32mfrom\u001b[0m \u001b[0mformat_data\u001b[0m \u001b[0;32mimport\u001b[0m \u001b[0mreturn_mr_features\u001b[0m\u001b[0;34m,\u001b[0m \u001b[0minitial_format\u001b[0m\u001b[0;34m,\u001b[0m \u001b[0moutput_format\u001b[0m\u001b[0;34m\u001b[0m\u001b[0;34m\u001b[0m\u001b[0m\n\u001b[1;32m     19\u001b[0m \u001b[0;32mfrom\u001b[0m \u001b[0mopenswath_feature\u001b[0m \u001b[0;32mimport\u001b[0m \u001b[0mget_os_features\u001b[0m\u001b[0;34m\u001b[0m\u001b[0;34m\u001b[0m\u001b[0m\n",
      "\u001b[0;32m/mnt/data_nas/lyc/project/JointAnalysis/JointAnalysis/src/mrgd/mrgroup.py\u001b[0m in \u001b[0;36m<module>\u001b[0;34m\u001b[0m\n\u001b[1;32m      9\u001b[0m \u001b[0;32mfrom\u001b[0m \u001b[0mdatabase\u001b[0m \u001b[0;32mimport\u001b[0m \u001b[0mget_rid2chrom_conn\u001b[0m\u001b[0;34m\u001b[0m\u001b[0;34m\u001b[0m\u001b[0m\n\u001b[1;32m     10\u001b[0m \u001b[0;32mfrom\u001b[0m \u001b[0mutils\u001b[0m \u001b[0;32mimport\u001b[0m \u001b[0mreturn_sm_matrix\u001b[0m\u001b[0;34m,\u001b[0m \u001b[0mreturn_sm_vector\u001b[0m\u001b[0;34m,\u001b[0m \u001b[0mrbf_kernel_numba_matrix\u001b[0m\u001b[0;34m,\u001b[0m \u001b[0mrbf_kernel_numba_vector\u001b[0m\u001b[0;34m,\u001b[0m \u001b[0mreturn_reps_vector\u001b[0m\u001b[0;34m\u001b[0m\u001b[0;34m\u001b[0m\u001b[0m\n\u001b[0;32m---> 11\u001b[0;31m \u001b[0;32mfrom\u001b[0m \u001b[0mchromatographic\u001b[0m \u001b[0;32mimport\u001b[0m \u001b[0morganize_chroms\u001b[0m\u001b[0;34m,\u001b[0m \u001b[0mreturn_xics_by_fid\u001b[0m\u001b[0;34m\u001b[0m\u001b[0;34m\u001b[0m\u001b[0m\n\u001b[0m\u001b[1;32m     12\u001b[0m \u001b[0;34m\u001b[0m\u001b[0m\n\u001b[1;32m     13\u001b[0m \u001b[0;32mclass\u001b[0m \u001b[0mPT_BM\u001b[0m\u001b[0;34m(\u001b[0m\u001b[0;34m)\u001b[0m\u001b[0;34m:\u001b[0m\u001b[0;34m\u001b[0m\u001b[0;34m\u001b[0m\u001b[0m\n",
      "\u001b[0;32m/mnt/data_nas/lyc/project/JointAnalysis/JointAnalysis/src/mrgd/chromatographic.py\u001b[0m in \u001b[0;36m<module>\u001b[0;34m\u001b[0m\n\u001b[1;32m      1\u001b[0m \u001b[0;32mimport\u001b[0m \u001b[0mnumba\u001b[0m\u001b[0;34m\u001b[0m\u001b[0;34m\u001b[0m\u001b[0m\n\u001b[0;32m----> 2\u001b[0;31m \u001b[0;32mimport\u001b[0m \u001b[0mPyMSNumpress\u001b[0m\u001b[0;34m\u001b[0m\u001b[0;34m\u001b[0m\u001b[0m\n\u001b[0m\u001b[1;32m      3\u001b[0m \u001b[0;32mimport\u001b[0m \u001b[0mzlib\u001b[0m\u001b[0;34m\u001b[0m\u001b[0;34m\u001b[0m\u001b[0m\n\u001b[1;32m      4\u001b[0m \u001b[0;32mimport\u001b[0m \u001b[0mnumpy\u001b[0m \u001b[0;32mas\u001b[0m \u001b[0mnp\u001b[0m\u001b[0;34m\u001b[0m\u001b[0;34m\u001b[0m\u001b[0m\n\u001b[1;32m      5\u001b[0m \u001b[0;34m\u001b[0m\u001b[0m\n",
      "\u001b[0;31mModuleNotFoundError\u001b[0m: No module named 'PyMSNumpress'"
     ]
    }
   ],
   "source": [
    "import os\n",
    "import sqlite3\n",
    "\n",
    "import numpy as np\n",
    "import pandas as pd\n",
    "\n",
    "from tqdm import tqdm\n",
    "from bisect import bisect\n",
    "from loguru  import logger\n",
    "\n",
    "from multiprocessing import Pool, cpu_count, Manager, Process, Value\n",
    "\n",
    "# pd.set_option('display.max_columns', None)\n",
    "from check_input import check_db\n",
    "from preprocessing import build_feature2ndscore, get_db_rid2rn, get_db_rn2fpath, return_pr2tr_id_map, return_nrt_intervel\n",
    "from database import get_rid2chrom_conn, close_rid2chrom_conn, get_run_native2chrom_fpath\n",
    "from mrgroup import get_cmrg_messages\n",
    "from format_data import return_mr_features, initial_format, output_format\n",
    "from openswath_feature import get_os_features\n",
    "from discriminate import calc_score_cut, calc_results\n",
    "\n",
    "\n",
    "debug_mode = False\n",
    "# 4G\n",
    "map_size = 36\n",
    "fdr_precursor = 0.01\n",
    "\n",
    "nrt_interval_percent = 5e-4\n",
    "nrt_width_percent = 0.02\n",
    "\n",
    "n_mrg = 3\n",
    "min_nuf = 2\n",
    "\n",
    "n_threads = cpu_count()\n",
    "\n",
    "seed = 123\n",
    "\n",
    "db_fpath = \"/mnt/data_nas/lyc/project/JointDIA/work/002-MCB/DDALib/10Rawdatas-10Percent-top6-Lib20240131/openswath/test_pp/merged.osw\"\n",
    "chrom_dpath = \"/mnt/data_nas/lyc/project/JointDIA/work/002-MCB/DDALib/10Rawdatas-10Percent-top6-Lib20240131/openswath/test_osw\"\n",
    "work_dpath = \"/mnt/data_nas/lyc/project/JointAnalysis/work/MCB/MCB_MSF_DDALib_top6_10Percent_Lib20240311/test_jointAnalysis\""
   ]
  },
  {
   "cell_type": "code",
   "execution_count": 2,
   "metadata": {},
   "outputs": [
    {
     "name": "stderr",
     "output_type": "stream",
     "text": [
      "\u001b[32m2024-03-30 09:37:19.188\u001b[0m | \u001b[1mINFO    \u001b[0m | \u001b[36m__main__\u001b[0m:\u001b[36m<module>\u001b[0m:\u001b[36m6\u001b[0m - \u001b[1mJointAnalysis Workflow\u001b[0m\n"
     ]
    }
   ],
   "source": [
    "map_size = 2 ** map_size\n",
    "if not os.path.exists(work_dpath):\n",
    "    os.makedirs(work_dpath)\n",
    "log_fpath = os.path.join(work_dpath, \"JointAnalysis.log\")\n",
    "logger.add(log_fpath, format=\"{time:YYYY-MM-DD HH:mm:ss} | {level} | {message}\", mode=\"w\")\n",
    "logger.info(f'JointAnalysis Workflow')"
   ]
  },
  {
   "cell_type": "code",
   "execution_count": 4,
   "metadata": {},
   "outputs": [
    {
     "name": "stderr",
     "output_type": "stream",
     "text": [
      "\u001b[32m2024-03-30 09:40:14.467\u001b[0m | \u001b[1mINFO    \u001b[0m | \u001b[36m__main__\u001b[0m:\u001b[36m<module>\u001b[0m:\u001b[36m1\u001b[0m - \u001b[1mCheck db_infile: /mnt/data_nas/lyc/project/JointDIA/work/002-MCB/DDALib/10Rawdatas-10Percent-top6-Lib20240131/openswath/test_pp/merged.osw\u001b[0m\n",
      "\u001b[32m2024-03-30 09:40:14.578\u001b[0m | \u001b[1mINFO    \u001b[0m | \u001b[36m__main__\u001b[0m:\u001b[36m<module>\u001b[0m:\u001b[36m5\u001b[0m - \u001b[1mSave ndscores to db: /mnt/data_nas/lyc/project/JointAnalysis/work/MCB/MCB_MSF_DDALib_top6_10Percent_Lib20240311/test_jointAnalysis/feature2ndscore.db\u001b[0m\n",
      "\u001b[32m2024-03-30 09:41:12.547\u001b[0m | \u001b[1mINFO    \u001b[0m | \u001b[36m__main__\u001b[0m:\u001b[36m<module>\u001b[0m:\u001b[36m8\u001b[0m - \u001b[1mOrganize the necessary inputs\u001b[0m\n"
     ]
    }
   ],
   "source": [
    "logger.info(f'Check db_infile: {db_fpath}')\n",
    "check_db(db_fpath, logger)\n",
    "\n",
    "feature2ndscore_fpath = os.path.join(work_dpath, \"feature2ndscore.db\")\n",
    "logger.info(f'Save ndscores to db: {feature2ndscore_fpath}')\n",
    "build_feature2ndscore(db_fpath, feature2ndscore_fpath, map_size)\n",
    "\n",
    "logger.info(f'Organize the necessary inputs')\n",
    "rid2rn = get_db_rid2rn(db_fpath)\n",
    "rid_list = [k for k in rid2rn.keys()]\n",
    "rn2chrom_fpath = get_db_rn2fpath(chrom_dpath, \"sqMass\")\n",
    "pr2tr_id_map = return_pr2tr_id_map(db_fpath)\n",
    "\n",
    "nrt_intervel, nrt_width = return_nrt_intervel(db_fpath, nrt_interval_percent, nrt_width_percent)"
   ]
  },
  {
   "cell_type": "code",
   "execution_count": 5,
   "metadata": {},
   "outputs": [
    {
     "name": "stderr",
     "output_type": "stream",
     "text": [
      "\u001b[32m2024-03-30 09:41:56.097\u001b[0m | \u001b[1mINFO    \u001b[0m | \u001b[36m__main__\u001b[0m:\u001b[36m<module>\u001b[0m:\u001b[36m1\u001b[0m - \u001b[1mSave nativeID2chromID\u001b[0m\n"
     ]
    }
   ],
   "source": [
    "logger.info(f'Save nativeID2chromID')\n",
    "rid2chrom_conn = get_rid2chrom_conn(rid2rn, rn2chrom_fpath)\n",
    "rid_native2chromid_fpath = get_run_native2chrom_fpath(rid2chrom_conn, work_dpath, map_size / 8)\n",
    "close_rid2chrom_conn(rid2chrom_conn)"
   ]
  },
  {
   "cell_type": "code",
   "execution_count": 6,
   "metadata": {},
   "outputs": [
    {
     "name": "stderr",
     "output_type": "stream",
     "text": [
      "\u001b[32m2024-03-30 09:43:35.122\u001b[0m | \u001b[1mINFO    \u001b[0m | \u001b[36m__main__\u001b[0m:\u001b[36m<module>\u001b[0m:\u001b[36m1\u001b[0m - \u001b[1mGet MRGroup\u001b[0m\n",
      "\u001b[32m2024-03-30 09:43:36.538\u001b[0m | \u001b[1mINFO    \u001b[0m | \u001b[36m__main__\u001b[0m:\u001b[36m<module>\u001b[0m:\u001b[36m18\u001b[0m - \u001b[1m( 0 / 243530) precursor has Calculated...\u001b[0m\n",
      "\u001b[32m2024-03-30 09:48:16.288\u001b[0m | \u001b[1mINFO    \u001b[0m | \u001b[36mmrgroup\u001b[0m:\u001b[36mget_cmrg_messages\u001b[0m:\u001b[36m253\u001b[0m - \u001b[1m( 10000 / 243530) precursor has Calculated...\u001b[0m\n",
      "\u001b[32m2024-03-30 09:51:01.770\u001b[0m | \u001b[1mINFO    \u001b[0m | \u001b[36mmrgroup\u001b[0m:\u001b[36mget_cmrg_messages\u001b[0m:\u001b[36m253\u001b[0m - \u001b[1m( 20000 / 243530) precursor has Calculated...\u001b[0m\n",
      "\u001b[32m2024-03-30 09:53:51.180\u001b[0m | \u001b[1mINFO    \u001b[0m | \u001b[36mmrgroup\u001b[0m:\u001b[36mget_cmrg_messages\u001b[0m:\u001b[36m253\u001b[0m - \u001b[1m( 30000 / 243530) precursor has Calculated...\u001b[0m\n",
      "\u001b[32m2024-03-30 09:56:47.655\u001b[0m | \u001b[1mINFO    \u001b[0m | \u001b[36mmrgroup\u001b[0m:\u001b[36mget_cmrg_messages\u001b[0m:\u001b[36m253\u001b[0m - \u001b[1m( 40000 / 243530) precursor has Calculated...\u001b[0m\n",
      "\u001b[32m2024-03-30 09:59:34.483\u001b[0m | \u001b[1mINFO    \u001b[0m | \u001b[36mmrgroup\u001b[0m:\u001b[36mget_cmrg_messages\u001b[0m:\u001b[36m253\u001b[0m - \u001b[1m( 50000 / 243530) precursor has Calculated...\u001b[0m\n",
      "\u001b[32m2024-03-30 10:02:19.801\u001b[0m | \u001b[1mINFO    \u001b[0m | \u001b[36mmrgroup\u001b[0m:\u001b[36mget_cmrg_messages\u001b[0m:\u001b[36m253\u001b[0m - \u001b[1m( 60000 / 243530) precursor has Calculated...\u001b[0m\n",
      "\u001b[32m2024-03-30 10:05:12.547\u001b[0m | \u001b[1mINFO    \u001b[0m | \u001b[36mmrgroup\u001b[0m:\u001b[36mget_cmrg_messages\u001b[0m:\u001b[36m253\u001b[0m - \u001b[1m( 70000 / 243530) precursor has Calculated...\u001b[0m\n",
      "\u001b[32m2024-03-30 10:05:12.551\u001b[0m | \u001b[1mINFO    \u001b[0m | \u001b[36mmrgroup\u001b[0m:\u001b[36mget_cmrg_messages\u001b[0m:\u001b[36m253\u001b[0m - \u001b[1m( 70000 / 243530) precursor has Calculated...\u001b[0m\n",
      "\u001b[32m2024-03-30 10:08:01.830\u001b[0m | \u001b[1mINFO    \u001b[0m | \u001b[36mmrgroup\u001b[0m:\u001b[36mget_cmrg_messages\u001b[0m:\u001b[36m253\u001b[0m - \u001b[1m( 80000 / 243530) precursor has Calculated...\u001b[0m\n",
      "\u001b[32m2024-03-30 10:10:49.705\u001b[0m | \u001b[1mINFO    \u001b[0m | \u001b[36mmrgroup\u001b[0m:\u001b[36mget_cmrg_messages\u001b[0m:\u001b[36m253\u001b[0m - \u001b[1m( 90000 / 243530) precursor has Calculated...\u001b[0m\n",
      "\u001b[32m2024-03-30 10:13:43.266\u001b[0m | \u001b[1mINFO    \u001b[0m | \u001b[36mmrgroup\u001b[0m:\u001b[36mget_cmrg_messages\u001b[0m:\u001b[36m253\u001b[0m - \u001b[1m( 100000 / 243530) precursor has Calculated...\u001b[0m\n",
      "\u001b[32m2024-03-30 10:13:43.256\u001b[0m | \u001b[1mINFO    \u001b[0m | \u001b[36mmrgroup\u001b[0m:\u001b[36mget_cmrg_messages\u001b[0m:\u001b[36m253\u001b[0m - \u001b[1m( 100000 / 243530) precursor has Calculated...\u001b[0m\n",
      "\u001b[32m2024-03-30 10:13:43.259\u001b[0m | \u001b[1mINFO    \u001b[0m | \u001b[36mmrgroup\u001b[0m:\u001b[36mget_cmrg_messages\u001b[0m:\u001b[36m253\u001b[0m - \u001b[1m( 100000 / 243530) precursor has Calculated...\u001b[0m\n",
      "\u001b[32m2024-03-30 10:16:34.488\u001b[0m | \u001b[1mINFO    \u001b[0m | \u001b[36mmrgroup\u001b[0m:\u001b[36mget_cmrg_messages\u001b[0m:\u001b[36m253\u001b[0m - \u001b[1m( 110000 / 243530) precursor has Calculated...\u001b[0m\n",
      "\u001b[32m2024-03-30 10:16:34.515\u001b[0m | \u001b[1mINFO    \u001b[0m | \u001b[36mmrgroup\u001b[0m:\u001b[36mget_cmrg_messages\u001b[0m:\u001b[36m253\u001b[0m - \u001b[1m( 110000 / 243530) precursor has Calculated...\u001b[0m\n",
      "\u001b[32m2024-03-30 10:16:34.526\u001b[0m | \u001b[1mINFO    \u001b[0m | \u001b[36mmrgroup\u001b[0m:\u001b[36mget_cmrg_messages\u001b[0m:\u001b[36m253\u001b[0m - \u001b[1m( 110000 / 243530) precursor has Calculated...\u001b[0m\n",
      "\u001b[32m2024-03-30 10:19:24.859\u001b[0m | \u001b[1mINFO    \u001b[0m | \u001b[36mmrgroup\u001b[0m:\u001b[36mget_cmrg_messages\u001b[0m:\u001b[36m253\u001b[0m - \u001b[1m( 120000 / 243530) precursor has Calculated...\u001b[0m\n",
      "\u001b[32m2024-03-30 10:19:24.872\u001b[0m | \u001b[1mINFO    \u001b[0m | \u001b[36mmrgroup\u001b[0m:\u001b[36mget_cmrg_messages\u001b[0m:\u001b[36m253\u001b[0m - \u001b[1m( 120000 / 243530) precursor has Calculated...\u001b[0m\n",
      "\u001b[32m2024-03-30 10:19:24.878\u001b[0m | \u001b[1mINFO    \u001b[0m | \u001b[36mmrgroup\u001b[0m:\u001b[36mget_cmrg_messages\u001b[0m:\u001b[36m253\u001b[0m - \u001b[1m( 120000 / 243530) precursor has Calculated...\u001b[0m\n",
      "\u001b[32m2024-03-30 10:22:20.782\u001b[0m | \u001b[1mINFO    \u001b[0m | \u001b[36mmrgroup\u001b[0m:\u001b[36mget_cmrg_messages\u001b[0m:\u001b[36m253\u001b[0m - \u001b[1m( 130000 / 243530) precursor has Calculated...\u001b[0m\n",
      "\u001b[32m2024-03-30 10:25:18.255\u001b[0m | \u001b[1mINFO    \u001b[0m | \u001b[36mmrgroup\u001b[0m:\u001b[36mget_cmrg_messages\u001b[0m:\u001b[36m253\u001b[0m - \u001b[1m( 140000 / 243530) precursor has Calculated...\u001b[0m\n",
      "\u001b[32m2024-03-30 10:25:18.271\u001b[0m | \u001b[1mINFO    \u001b[0m | \u001b[36mmrgroup\u001b[0m:\u001b[36mget_cmrg_messages\u001b[0m:\u001b[36m253\u001b[0m - \u001b[1m( 140000 / 243530) precursor has Calculated...\u001b[0m\n",
      "\u001b[32m2024-03-30 10:27:33.826\u001b[0m | \u001b[1mINFO    \u001b[0m | \u001b[36m__main__\u001b[0m:\u001b[36m<module>\u001b[0m:\u001b[36m31\u001b[0m - \u001b[1mGet MR features\u001b[0m\n",
      "\u001b[32m2024-03-30 10:36:46.276\u001b[0m | \u001b[1mINFO    \u001b[0m | \u001b[36m__main__\u001b[0m:\u001b[36m<module>\u001b[0m:\u001b[36m35\u001b[0m - \u001b[1mGet OS features\u001b[0m\n"
     ]
    }
   ],
   "source": [
    "logger.info(f'Get MRGroup')\n",
    "m_conn = sqlite3.connect(db_fpath)\n",
    "m_cur = m_conn.cursor()\n",
    "m_cur.execute(f'SELECT ID FROM PRECURSOR')\n",
    "\n",
    "precursor_ids = np.array(m_cur.fetchall()).squeeze()\n",
    "m_cur.close()\n",
    "m_conn.close()\n",
    "\n",
    "num_precursor = precursor_ids.shape[0]\n",
    "logger_n = 10 ** (len(str(num_precursor)) - 2)\n",
    "n_precur = num_precursor // n_threads\n",
    "precurs_list = [precursor_ids[i * n_precur : (i + 1) * n_precur].tolist() for i in range(n_threads)]\n",
    "_ = [precurs_list[i].append(precursor_ids[i + n_precur * n_threads]) for i in range(len(precursor_ids) - n_precur * n_threads)]\n",
    "\n",
    "results_collector = Manager().list()\n",
    "counter = Manager().Value('d',0)\n",
    "logger.info(f\"( {counter.value} / {num_precursor}) precursor has Calculated...\")\n",
    "extractors = []\n",
    "for precur_ids in precurs_list:\n",
    "    p = Process(target = get_cmrg_messages, \n",
    "                args =  (precur_ids, db_fpath, feature2ndscore_fpath, rid_native2chromid_fpath,\n",
    "                            pr2tr_id_map, rid2rn, rn2chrom_fpath, nrt_intervel, nrt_width,\n",
    "                            n_mrg, min_nuf, logger_n, debug_mode, results_collector, counter, num_precursor, logger, ))\n",
    "    p.daemon = True\n",
    "    extractors.append(p)\n",
    "    p.start()\n",
    "for p in extractors:\n",
    "    p.join()\n",
    "\n",
    "logger.info(f'Get MR features')\n",
    "mr_iter_features = return_mr_features(results_collector)\n",
    "del results_collector, counter\n",
    "\n",
    "logger.info(f'Get OS features')\n",
    "target_fids = mr_iter_features[\"FEATURE_ID\"].values\n",
    "os_feature_pd = get_os_features(target_fids, db_fpath)\n",
    "\n"
   ]
  },
  {
   "cell_type": "code",
   "execution_count": 7,
   "metadata": {},
   "outputs": [
    {
     "name": "stderr",
     "output_type": "stream",
     "text": [
      "\u001b[32m2024-03-30 10:39:28.885\u001b[0m | \u001b[1mINFO    \u001b[0m | \u001b[36m__main__\u001b[0m:\u001b[36m<module>\u001b[0m:\u001b[36m1\u001b[0m - \u001b[1mInitial format\u001b[0m\n"
     ]
    }
   ],
   "source": [
    "logger.info(f'Initial format')\n",
    "mr_iter_features = initial_format(db_fpath, mr_iter_features, os_feature_pd)\n",
    "\n"
   ]
  },
  {
   "cell_type": "code",
   "execution_count": 8,
   "metadata": {},
   "outputs": [
    {
     "data": {
      "text/plain": [
       "Index(['PRECURSOR_ID', 'MRG_RANK', 'NUF', 'MR_JOINT_SCORE_SUM',\n",
       "       'MR_JOINT_SCORE', 'MR_SCORE_1', 'MR_SCORE_2', 'MR_SCORE_3',\n",
       "       'MR_SCORE_4', 'MR_SCORE_5', 'MR_SCORE_6', 'MR_SCORE_7', 'MR_SCORE_8',\n",
       "       'MR_SCORE_9', 'decoy', 'run_id', 'RT', 'delta_rt', 'leftWidth',\n",
       "       'rightWidth', 'Intensity', 'aggr_prec_Peak_Area', 'aggr_prec_Peak_Apex',\n",
       "       'VAR_MASSDEV_SCORE_MS1', 'VAR_MI_SCORE_MS1',\n",
       "       'VAR_MI_CONTRAST_SCORE_MS1', 'VAR_MI_COMBINED_SCORE_MS1',\n",
       "       'VAR_ISOTOPE_CORRELATION_SCORE_MS1', 'VAR_ISOTOPE_OVERLAP_SCORE_MS1',\n",
       "       'VAR_XCORR_COELUTION_MS1', 'VAR_XCORR_COELUTION_CONTRAST_MS1',\n",
       "       'VAR_XCORR_COELUTION_COMBINED_MS1', 'VAR_XCORR_SHAPE_MS1',\n",
       "       'VAR_XCORR_SHAPE_CONTRAST_MS1', 'VAR_XCORR_SHAPE_COMBINED_MS1',\n",
       "       'VAR_BSERIES_SCORE_MS2', 'VAR_DOTPROD_SCORE_MS2',\n",
       "       'VAR_INTENSITY_SCORE_MS2', 'VAR_ISOTOPE_CORRELATION_SCORE_MS2',\n",
       "       'VAR_ISOTOPE_OVERLAP_SCORE_MS2', 'VAR_LIBRARY_CORR_MS2',\n",
       "       'VAR_LIBRARY_DOTPROD_MS2', 'VAR_LIBRARY_MANHATTAN_MS2',\n",
       "       'VAR_LIBRARY_RMSD_MS2', 'VAR_LIBRARY_ROOTMEANSQUARE_MS2',\n",
       "       'VAR_LIBRARY_SANGLE_MS2', 'VAR_LOG_SN_SCORE_MS2',\n",
       "       'VAR_MANHATTAN_SCORE_MS2', 'VAR_MASSDEV_SCORE_MS2',\n",
       "       'VAR_MASSDEV_SCORE_WEIGHTED_MS2', 'VAR_MI_SCORE_MS2',\n",
       "       'VAR_MI_WEIGHTED_SCORE_MS2', 'VAR_NORM_RT_SCORE_MS2',\n",
       "       'VAR_XCORR_COELUTION_MS2', 'VAR_XCORR_COELUTION_WEIGHTED_MS2',\n",
       "       'VAR_XCORR_SHAPE_MS2', 'VAR_XCORR_SHAPE_WEIGHTED_MS2',\n",
       "       'VAR_YSERIES_SCORE_MS2'],\n",
       "      dtype='object')"
      ]
     },
     "execution_count": 8,
     "metadata": {},
     "output_type": "execute_result"
    }
   ],
   "source": [
    "mr_iter_features.columns"
   ]
  },
  {
   "cell_type": "code",
   "execution_count": 10,
   "metadata": {},
   "outputs": [
    {
     "name": "stderr",
     "output_type": "stream",
     "text": [
      "\u001b[32m2024-03-30 19:10:54.646\u001b[0m | \u001b[1mINFO    \u001b[0m | \u001b[36m__main__\u001b[0m:\u001b[36m<module>\u001b[0m:\u001b[36m1\u001b[0m - \u001b[1mDiscriminate\u001b[0m\n",
      "/home/lyc/anaconda3/envs/dreamdia/lib/python3.6/site-packages/xgboost/sklearn.py:888: UserWarning: The use of label encoder in XGBClassifier is deprecated and will be removed in a future release. To remove this warning, do the following: 1) Pass option use_label_encoder=False when constructing XGBClassifier object; and 2) Encode your labels (y) as integers starting with 0, i.e. 0, 1, 2, ..., [num_class - 1].\n",
      "  warnings.warn(label_encoder_deprecation_msg, UserWarning)\n"
     ]
    },
    {
     "name": "stdout",
     "output_type": "stream",
     "text": [
      "[19:11:02] WARNING: /tmp/build/80754af9/xgboost-split_1619724447847/work/src/learner.cc:1061: Starting in XGBoost 1.3.0, the default evaluation metric used with the objective 'binary:logistic' was changed from 'error' to 'logloss'. Explicitly set eval_metric if you'd like to restore the old behavior.\n"
     ]
    },
    {
     "name": "stderr",
     "output_type": "stream",
     "text": [
      "/home/lyc/anaconda3/envs/dreamdia/lib/python3.6/site-packages/xgboost/sklearn.py:888: UserWarning: The use of label encoder in XGBClassifier is deprecated and will be removed in a future release. To remove this warning, do the following: 1) Pass option use_label_encoder=False when constructing XGBClassifier object; and 2) Encode your labels (y) as integers starting with 0, i.e. 0, 1, 2, ..., [num_class - 1].\n",
      "  warnings.warn(label_encoder_deprecation_msg, UserWarning)\n"
     ]
    },
    {
     "name": "stdout",
     "output_type": "stream",
     "text": [
      "[19:12:47] WARNING: /tmp/build/80754af9/xgboost-split_1619724447847/work/src/learner.cc:1061: Starting in XGBoost 1.3.0, the default evaluation metric used with the objective 'binary:logistic' was changed from 'error' to 'logloss'. Explicitly set eval_metric if you'd like to restore the old behavior.\n",
      "[19:14:30] WARNING: /tmp/build/80754af9/xgboost-split_1619724447847/work/src/learner.cc:1061: Starting in XGBoost 1.3.0, the default evaluation metric used with the objective 'binary:logistic' was changed from 'error' to 'logloss'. Explicitly set eval_metric if you'd like to restore the old behavior.\n",
      "[19:16:13] WARNING: /tmp/build/80754af9/xgboost-split_1619724447847/work/src/learner.cc:1061: Starting in XGBoost 1.3.0, the default evaluation metric used with the objective 'binary:logistic' was changed from 'error' to 'logloss'. Explicitly set eval_metric if you'd like to restore the old behavior.\n",
      "[19:17:55] WARNING: /tmp/build/80754af9/xgboost-split_1619724447847/work/src/learner.cc:1061: Starting in XGBoost 1.3.0, the default evaluation metric used with the objective 'binary:logistic' was changed from 'error' to 'logloss'. Explicitly set eval_metric if you'd like to restore the old behavior.\n",
      "[19:19:37] WARNING: /tmp/build/80754af9/xgboost-split_1619724447847/work/src/learner.cc:1061: Starting in XGBoost 1.3.0, the default evaluation metric used with the objective 'binary:logistic' was changed from 'error' to 'logloss'. Explicitly set eval_metric if you'd like to restore the old behavior.\n",
      "[19:21:06] WARNING: /tmp/build/80754af9/xgboost-split_1619724447847/work/src/learner.cc:1061: Starting in XGBoost 1.3.0, the default evaluation metric used with the objective 'binary:logistic' was changed from 'error' to 'logloss'. Explicitly set eval_metric if you'd like to restore the old behavior.\n",
      "[19:22:45] WARNING: /tmp/build/80754af9/xgboost-split_1619724447847/work/src/learner.cc:1061: Starting in XGBoost 1.3.0, the default evaluation metric used with the objective 'binary:logistic' was changed from 'error' to 'logloss'. Explicitly set eval_metric if you'd like to restore the old behavior.\n",
      "[19:24:30] WARNING: /tmp/build/80754af9/xgboost-split_1619724447847/work/src/learner.cc:1061: Starting in XGBoost 1.3.0, the default evaluation metric used with the objective 'binary:logistic' was changed from 'error' to 'logloss'. Explicitly set eval_metric if you'd like to restore the old behavior.\n",
      "[19:26:15] WARNING: /tmp/build/80754af9/xgboost-split_1619724447847/work/src/learner.cc:1061: Starting in XGBoost 1.3.0, the default evaluation metric used with the objective 'binary:logistic' was changed from 'error' to 'logloss'. Explicitly set eval_metric if you'd like to restore the old behavior.\n",
      "[19:27:48] WARNING: /tmp/build/80754af9/xgboost-split_1619724447847/work/src/learner.cc:1061: Starting in XGBoost 1.3.0, the default evaluation metric used with the objective 'binary:logistic' was changed from 'error' to 'logloss'. Explicitly set eval_metric if you'd like to restore the old behavior.\n"
     ]
    },
    {
     "name": "stderr",
     "output_type": "stream",
     "text": [
      "\u001b[32m2024-03-30 19:30:37.350\u001b[0m | \u001b[1mINFO    \u001b[0m | \u001b[36m__main__\u001b[0m:\u001b[36m<module>\u001b[0m:\u001b[36m12\u001b[0m - \u001b[1mOutput results\u001b[0m\n"
     ]
    }
   ],
   "source": [
    "    logger.info(f'Discriminate')\n",
    "    ignored_columns = [\"PRECURSOR_ID\", \"decoy\", \"run_id\", \"RT\", \"delta_rt\", \"rightWidth\", \"leftWidth\", \"Intensity\", \"aggr_prec_Peak_Area\", \"aggr_prec_Peak_Apex\"]\n",
    "    iter_mr_columns = [col for col in mr_iter_features.columns if col not in ignored_columns]\n",
    "\n",
    "    mr_iter_res = calc_results(scored_columns = iter_mr_columns,\n",
    "                               initial_column = \"MRG_RANK\",\n",
    "                               initial_ascending = True, \n",
    "                               data_pd = mr_iter_features,\n",
    "                               n_threads = n_threads,\n",
    "                               seed = seed)\n",
    "\n",
    "    logger.info(f'Output results')\n",
    "    mr_iter_res = output_format(db_fpath, mr_iter_res)"
   ]
  },
  {
   "cell_type": "code",
   "execution_count": 12,
   "metadata": {},
   "outputs": [],
   "source": [
    " results = output_format(db_fpath, mr_iter_res)\n",
    "\n",
    "trans = []\n",
    "for _, (mseq, charge, decoy) in enumerate(zip(results[\"FullPeptideName\"].values, results[\"Charge\"].values, results[\"decoy\"].values)):\n",
    "    if decoy == 0:\n",
    "        trans.append(mseq + \"_\" + str(charge))\n",
    "    else:\n",
    "        trans.append(\"DECOY_\" + mseq + \"_\" + str(charge))\n",
    "results[\"transition_group_id\"] = trans\n",
    "results_format = results.loc[:, [\"transition_group_id\",\n",
    "                                 \"decoy\",\n",
    "                                 \"run_id\",\n",
    "                                 \"filename\", \n",
    "                                 \"RT\",\n",
    "                                 \"assay_rt\",\n",
    "                                 \"delta_rt\",\n",
    "                                 \"iRT\",\n",
    "                                 \"Sequence\",\n",
    "                                 \"FullPeptideName\",\n",
    "                                 \"Charge\",\n",
    "                                 \"mz\",\n",
    "                                 \"Intensity\",\n",
    "                                 \"aggr_prec_Peak_Area\",\n",
    "                                 \"aggr_prec_Peak_Apex\",\n",
    "                                 \"leftWidth\",\n",
    "                                 \"rightWidth\",\n",
    "                                 \"ProteinName\",\n",
    "                                 \"jd_score\"]]"
   ]
  },
  {
   "cell_type": "code",
   "execution_count": 37,
   "metadata": {},
   "outputs": [
    {
     "data": {
      "text/html": [
       "<div>\n",
       "<style scoped>\n",
       "    .dataframe tbody tr th:only-of-type {\n",
       "        vertical-align: middle;\n",
       "    }\n",
       "\n",
       "    .dataframe tbody tr th {\n",
       "        vertical-align: top;\n",
       "    }\n",
       "\n",
       "    .dataframe thead th {\n",
       "        text-align: right;\n",
       "    }\n",
       "</style>\n",
       "<table border=\"1\" class=\"dataframe\">\n",
       "  <thead>\n",
       "    <tr style=\"text-align: right;\">\n",
       "      <th></th>\n",
       "      <th>transition_group_id</th>\n",
       "      <th>decoy</th>\n",
       "      <th>run_id</th>\n",
       "      <th>filename</th>\n",
       "      <th>RT</th>\n",
       "      <th>assay_rt</th>\n",
       "      <th>delta_rt</th>\n",
       "      <th>iRT</th>\n",
       "      <th>Sequence</th>\n",
       "      <th>FullPeptideName</th>\n",
       "      <th>Charge</th>\n",
       "      <th>mz</th>\n",
       "      <th>Intensity</th>\n",
       "      <th>aggr_prec_Peak_Area</th>\n",
       "      <th>aggr_prec_Peak_Apex</th>\n",
       "      <th>leftWidth</th>\n",
       "      <th>rightWidth</th>\n",
       "      <th>ProteinName</th>\n",
       "      <th>jd_score</th>\n",
       "    </tr>\n",
       "  </thead>\n",
       "  <tbody>\n",
       "    <tr>\n",
       "      <th>0</th>\n",
       "      <td>.(UniMod:1)AAAAAAAAAAAAGDSDSWDADTFSMEDPVRK_3</td>\n",
       "      <td>0</td>\n",
       "      <td>7979900529762267651</td>\n",
       "      <td>/mnt/data_nas/lyc/project/JointDIA/data/MCB/BG...</td>\n",
       "      <td>6626.10</td>\n",
       "      <td>6681.5413</td>\n",
       "      <td>-55.4413</td>\n",
       "      <td>82.9356</td>\n",
       "      <td>AAAAAAAAAAAAGDSDSWDADTFSMEDPVRK</td>\n",
       "      <td>.(UniMod:1)AAAAAAAAAAAAGDSDSWDADTFSMEDPVRK</td>\n",
       "      <td>3</td>\n",
       "      <td>1018.124485</td>\n",
       "      <td>5947190.0</td>\n",
       "      <td>4.173890e+06</td>\n",
       "      <td>1.751130e+06</td>\n",
       "      <td>6601.324707</td>\n",
       "      <td>6638.442383</td>\n",
       "      <td>sp|Q66JS6|EI3JB_MOUSE</td>\n",
       "      <td>0.961575</td>\n",
       "    </tr>\n",
       "    <tr>\n",
       "      <th>1</th>\n",
       "      <td>.(UniMod:1)AAAAAAAAAAGAAGGR_2</td>\n",
       "      <td>0</td>\n",
       "      <td>7979900529762267651</td>\n",
       "      <td>/mnt/data_nas/lyc/project/JointDIA/data/MCB/BG...</td>\n",
       "      <td>4557.35</td>\n",
       "      <td>4606.7990</td>\n",
       "      <td>-49.4490</td>\n",
       "      <td>58.1088</td>\n",
       "      <td>AAAAAAAAAAGAAGGR</td>\n",
       "      <td>.(UniMod:1)AAAAAAAAAAGAAGGR</td>\n",
       "      <td>2</td>\n",
       "      <td>620.823278</td>\n",
       "      <td>24966500.0</td>\n",
       "      <td>3.115621e+08</td>\n",
       "      <td>7.817065e+07</td>\n",
       "      <td>4540.854492</td>\n",
       "      <td>4573.848633</td>\n",
       "      <td>sp|Q8CCS6|PABP2_MOUSE</td>\n",
       "      <td>0.999886</td>\n",
       "    </tr>\n",
       "    <tr>\n",
       "      <th>2</th>\n",
       "      <td>.(UniMod:1)AAAAAAAGGAALAVSTGLETATLQK_2</td>\n",
       "      <td>0</td>\n",
       "      <td>7979900529762267651</td>\n",
       "      <td>/mnt/data_nas/lyc/project/JointDIA/data/MCB/BG...</td>\n",
       "      <td>7360.27</td>\n",
       "      <td>7421.6273</td>\n",
       "      <td>-61.3573</td>\n",
       "      <td>91.7463</td>\n",
       "      <td>AAAAAAAGGAALAVSTGLETATLQK</td>\n",
       "      <td>.(UniMod:1)AAAAAAAGGAALAVSTGLETATLQK</td>\n",
       "      <td>2</td>\n",
       "      <td>1114.100071</td>\n",
       "      <td>4590070.0</td>\n",
       "      <td>5.403477e+06</td>\n",
       "      <td>1.948072e+06</td>\n",
       "      <td>7344.550781</td>\n",
       "      <td>7378.718262</td>\n",
       "      <td>sp|Q9CQ25|MZT2_MOUSE</td>\n",
       "      <td>0.996836</td>\n",
       "    </tr>\n",
       "    <tr>\n",
       "      <th>3</th>\n",
       "      <td>.(UniMod:1)AAAAAAAGGAALAVSTGLETATLQK_3</td>\n",
       "      <td>0</td>\n",
       "      <td>7979900529762267651</td>\n",
       "      <td>/mnt/data_nas/lyc/project/JointDIA/data/MCB/BG...</td>\n",
       "      <td>7360.34</td>\n",
       "      <td>7420.5903</td>\n",
       "      <td>-60.2503</td>\n",
       "      <td>91.7471</td>\n",
       "      <td>AAAAAAAGGAALAVSTGLETATLQK</td>\n",
       "      <td>.(UniMod:1)AAAAAAAGGAALAVSTGLETATLQK</td>\n",
       "      <td>3</td>\n",
       "      <td>743.069139</td>\n",
       "      <td>1466010.0</td>\n",
       "      <td>1.120476e+06</td>\n",
       "      <td>8.125468e+05</td>\n",
       "      <td>7347.208008</td>\n",
       "      <td>7374.554199</td>\n",
       "      <td>sp|Q9CQ25|MZT2_MOUSE</td>\n",
       "      <td>0.999590</td>\n",
       "    </tr>\n",
       "  </tbody>\n",
       "</table>\n",
       "</div>"
      ],
      "text/plain": [
       "                            transition_group_id  decoy               run_id  \\\n",
       "0  .(UniMod:1)AAAAAAAAAAAAGDSDSWDADTFSMEDPVRK_3      0  7979900529762267651   \n",
       "1                 .(UniMod:1)AAAAAAAAAAGAAGGR_2      0  7979900529762267651   \n",
       "2        .(UniMod:1)AAAAAAAGGAALAVSTGLETATLQK_2      0  7979900529762267651   \n",
       "3        .(UniMod:1)AAAAAAAGGAALAVSTGLETATLQK_3      0  7979900529762267651   \n",
       "\n",
       "                                            filename       RT   assay_rt  \\\n",
       "0  /mnt/data_nas/lyc/project/JointDIA/data/MCB/BG...  6626.10  6681.5413   \n",
       "1  /mnt/data_nas/lyc/project/JointDIA/data/MCB/BG...  4557.35  4606.7990   \n",
       "2  /mnt/data_nas/lyc/project/JointDIA/data/MCB/BG...  7360.27  7421.6273   \n",
       "3  /mnt/data_nas/lyc/project/JointDIA/data/MCB/BG...  7360.34  7420.5903   \n",
       "\n",
       "   delta_rt      iRT                         Sequence  \\\n",
       "0  -55.4413  82.9356  AAAAAAAAAAAAGDSDSWDADTFSMEDPVRK   \n",
       "1  -49.4490  58.1088                 AAAAAAAAAAGAAGGR   \n",
       "2  -61.3573  91.7463        AAAAAAAGGAALAVSTGLETATLQK   \n",
       "3  -60.2503  91.7471        AAAAAAAGGAALAVSTGLETATLQK   \n",
       "\n",
       "                              FullPeptideName  Charge           mz  \\\n",
       "0  .(UniMod:1)AAAAAAAAAAAAGDSDSWDADTFSMEDPVRK       3  1018.124485   \n",
       "1                 .(UniMod:1)AAAAAAAAAAGAAGGR       2   620.823278   \n",
       "2        .(UniMod:1)AAAAAAAGGAALAVSTGLETATLQK       2  1114.100071   \n",
       "3        .(UniMod:1)AAAAAAAGGAALAVSTGLETATLQK       3   743.069139   \n",
       "\n",
       "    Intensity  aggr_prec_Peak_Area  aggr_prec_Peak_Apex    leftWidth  \\\n",
       "0   5947190.0         4.173890e+06         1.751130e+06  6601.324707   \n",
       "1  24966500.0         3.115621e+08         7.817065e+07  4540.854492   \n",
       "2   4590070.0         5.403477e+06         1.948072e+06  7344.550781   \n",
       "3   1466010.0         1.120476e+06         8.125468e+05  7347.208008   \n",
       "\n",
       "    rightWidth            ProteinName  jd_score  \n",
       "0  6638.442383  sp|Q66JS6|EI3JB_MOUSE  0.961575  \n",
       "1  4573.848633  sp|Q8CCS6|PABP2_MOUSE  0.999886  \n",
       "2  7378.718262   sp|Q9CQ25|MZT2_MOUSE  0.996836  \n",
       "3  7374.554199   sp|Q9CQ25|MZT2_MOUSE  0.999590  "
      ]
     },
     "execution_count": 37,
     "metadata": {},
     "output_type": "execute_result"
    }
   ],
   "source": [
    "results_format.head(4)"
   ]
  },
  {
   "cell_type": "code",
   "execution_count": 39,
   "metadata": {},
   "outputs": [],
   "source": [
    "from reports import stats"
   ]
  },
  {
   "cell_type": "code",
   "execution_count": 40,
   "metadata": {},
   "outputs": [],
   "source": [
    "results_format = stats(results_format, \"jd_score\", logger)"
   ]
  }
 ],
 "metadata": {
  "kernelspec": {
   "display_name": "jointdia",
   "language": "python",
   "name": "jointdia"
  },
  "language_info": {
   "codemirror_mode": {
    "name": "ipython",
    "version": 3
   },
   "file_extension": ".py",
   "mimetype": "text/x-python",
   "name": "python",
   "nbconvert_exporter": "python",
   "pygments_lexer": "ipython3",
   "version": "3.6.12"
  }
 },
 "nbformat": 4,
 "nbformat_minor": 2
}
